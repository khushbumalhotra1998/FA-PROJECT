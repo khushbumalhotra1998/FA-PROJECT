{
  "metadata": {
    "kernelspec": {
      "language": "python",
      "display_name": "Python 3",
      "name": "python3"
    },
    "language_info": {
      "name": "python",
      "version": "3.7.10",
      "mimetype": "text/x-python",
      "codemirror_mode": {
        "name": "ipython",
        "version": 3
      },
      "pygments_lexer": "ipython3",
      "nbconvert_exporter": "python",
      "file_extension": ".py"
    },
    "colab": {
      "name": "015049_FA PROJECT_1.ipynb",
      "provenance": [],
      "collapsed_sections": []
    },
    "accelerator": "GPU"
  },
  "nbformat_minor": 0,
  "nbformat": 4,
  "cells": [
    {
      "cell_type": "markdown",
      "source": [
        "#FA PROJECT- 1 \n",
        "\n",
        "015049- KHUSHBU MALHOTRA "
      ],
      "metadata": {
        "id": "tGnM01L0IMAb"
      }
    },
    {
      "cell_type": "markdown",
      "source": [
        "# Google Stock Price Prediction "
      ],
      "metadata": {
        "id": "LEjxcaoPIndz"
      }
    },
    {
      "cell_type": "markdown",
      "source": [
        "The art of forecasting stock prices has been a difficult task for many of the researchers and analysts. In fact, investors are highly interested in the research area of stock price prediction. For a good and successful investment, many investors are keen on knowing the future situation of the stock market. Good and effective prediction systems for the stock market help traders, investors, and analyst by providing supportive information like the future direction of the stock market. In this work, we present a recurrent neural network (RNN) and Long Short-Term Memory (LSTM) approach to predict stock market indices."
      ],
      "metadata": {
        "id": "_0oSQRUdJYCF"
      }
    },
    {
      "cell_type": "code",
      "source": [
        "!pip install keras-tuner\n",
        "import numpy as np\n",
        "import pandas as pd\n",
        "import matplotlib.pyplot as plt\n",
        "from tensorflow.keras.models import Sequential\n",
        "from tensorflow.keras.layers import Dense, Dropout,LSTM\n",
        "import numpy as np\n",
        "from sklearn.preprocessing import MinMaxScaler\n",
        "import math\n",
        "from sklearn.metrics import mean_squared_error\n",
        "from kerastuner.engine.hyperparameters import HyperParameters\n",
        "from tensorflow import keras\n",
        "from tensorflow.keras import layers\n",
        "from kerastuner.tuners import RandomSearch\n"
      ],
      "metadata": {
        "execution": {
          "iopub.status.busy": "2021-10-24T16:36:05.262349Z",
          "iopub.execute_input": "2021-10-24T16:36:05.262657Z",
          "iopub.status.idle": "2021-10-24T16:36:05.269432Z",
          "shell.execute_reply.started": "2021-10-24T16:36:05.262625Z",
          "shell.execute_reply": "2021-10-24T16:36:05.268195Z"
        },
        "trusted": true,
        "colab": {
          "base_uri": "https://localhost:8080/"
        },
        "id": "296RlYe5vm8U",
        "outputId": "b311fce5-cc04-426c-d75e-426b2ffeeb30"
      },
      "execution_count": null,
      "outputs": [
        {
          "output_type": "stream",
          "name": "stdout",
          "text": [
            "Collecting keras-tuner\n",
            "  Downloading keras_tuner-1.1.0-py3-none-any.whl (98 kB)\n",
            "\u001b[?25l\r\u001b[K     |███▍                            | 10 kB 20.9 MB/s eta 0:00:01\r\u001b[K     |██████▊                         | 20 kB 20.5 MB/s eta 0:00:01\r\u001b[K     |██████████                      | 30 kB 22.8 MB/s eta 0:00:01\r\u001b[K     |█████████████▍                  | 40 kB 21.8 MB/s eta 0:00:01\r\u001b[K     |████████████████▊               | 51 kB 12.6 MB/s eta 0:00:01\r\u001b[K     |████████████████████            | 61 kB 13.7 MB/s eta 0:00:01\r\u001b[K     |███████████████████████▍        | 71 kB 10.8 MB/s eta 0:00:01\r\u001b[K     |██████████████████████████▊     | 81 kB 11.4 MB/s eta 0:00:01\r\u001b[K     |██████████████████████████████  | 92 kB 11.8 MB/s eta 0:00:01\r\u001b[K     |████████████████████████████████| 98 kB 4.6 MB/s \n",
            "\u001b[?25hRequirement already satisfied: packaging in /usr/local/lib/python3.7/dist-packages (from keras-tuner) (21.3)\n",
            "Requirement already satisfied: numpy in /usr/local/lib/python3.7/dist-packages (from keras-tuner) (1.19.5)\n",
            "Requirement already satisfied: scipy in /usr/local/lib/python3.7/dist-packages (from keras-tuner) (1.4.1)\n",
            "Requirement already satisfied: ipython in /usr/local/lib/python3.7/dist-packages (from keras-tuner) (5.5.0)\n",
            "Collecting kt-legacy\n",
            "  Downloading kt_legacy-1.0.4-py3-none-any.whl (9.6 kB)\n",
            "Requirement already satisfied: tensorboard in /usr/local/lib/python3.7/dist-packages (from keras-tuner) (2.7.0)\n",
            "Requirement already satisfied: requests in /usr/local/lib/python3.7/dist-packages (from keras-tuner) (2.23.0)\n",
            "Requirement already satisfied: pexpect in /usr/local/lib/python3.7/dist-packages (from ipython->keras-tuner) (4.8.0)\n",
            "Requirement already satisfied: simplegeneric>0.8 in /usr/local/lib/python3.7/dist-packages (from ipython->keras-tuner) (0.8.1)\n",
            "Requirement already satisfied: setuptools>=18.5 in /usr/local/lib/python3.7/dist-packages (from ipython->keras-tuner) (57.4.0)\n",
            "Requirement already satisfied: traitlets>=4.2 in /usr/local/lib/python3.7/dist-packages (from ipython->keras-tuner) (5.1.1)\n",
            "Requirement already satisfied: prompt-toolkit<2.0.0,>=1.0.4 in /usr/local/lib/python3.7/dist-packages (from ipython->keras-tuner) (1.0.18)\n",
            "Requirement already satisfied: pygments in /usr/local/lib/python3.7/dist-packages (from ipython->keras-tuner) (2.6.1)\n",
            "Requirement already satisfied: pickleshare in /usr/local/lib/python3.7/dist-packages (from ipython->keras-tuner) (0.7.5)\n",
            "Requirement already satisfied: decorator in /usr/local/lib/python3.7/dist-packages (from ipython->keras-tuner) (4.4.2)\n",
            "Requirement already satisfied: wcwidth in /usr/local/lib/python3.7/dist-packages (from prompt-toolkit<2.0.0,>=1.0.4->ipython->keras-tuner) (0.2.5)\n",
            "Requirement already satisfied: six>=1.9.0 in /usr/local/lib/python3.7/dist-packages (from prompt-toolkit<2.0.0,>=1.0.4->ipython->keras-tuner) (1.15.0)\n",
            "Requirement already satisfied: pyparsing!=3.0.5,>=2.0.2 in /usr/local/lib/python3.7/dist-packages (from packaging->keras-tuner) (3.0.6)\n",
            "Requirement already satisfied: ptyprocess>=0.5 in /usr/local/lib/python3.7/dist-packages (from pexpect->ipython->keras-tuner) (0.7.0)\n",
            "Requirement already satisfied: certifi>=2017.4.17 in /usr/local/lib/python3.7/dist-packages (from requests->keras-tuner) (2021.10.8)\n",
            "Requirement already satisfied: idna<3,>=2.5 in /usr/local/lib/python3.7/dist-packages (from requests->keras-tuner) (2.10)\n",
            "Requirement already satisfied: chardet<4,>=3.0.2 in /usr/local/lib/python3.7/dist-packages (from requests->keras-tuner) (3.0.4)\n",
            "Requirement already satisfied: urllib3!=1.25.0,!=1.25.1,<1.26,>=1.21.1 in /usr/local/lib/python3.7/dist-packages (from requests->keras-tuner) (1.24.3)\n",
            "Requirement already satisfied: google-auth-oauthlib<0.5,>=0.4.1 in /usr/local/lib/python3.7/dist-packages (from tensorboard->keras-tuner) (0.4.6)\n",
            "Requirement already satisfied: wheel>=0.26 in /usr/local/lib/python3.7/dist-packages (from tensorboard->keras-tuner) (0.37.0)\n",
            "Requirement already satisfied: tensorboard-data-server<0.7.0,>=0.6.0 in /usr/local/lib/python3.7/dist-packages (from tensorboard->keras-tuner) (0.6.1)\n",
            "Requirement already satisfied: google-auth<3,>=1.6.3 in /usr/local/lib/python3.7/dist-packages (from tensorboard->keras-tuner) (1.35.0)\n",
            "Requirement already satisfied: markdown>=2.6.8 in /usr/local/lib/python3.7/dist-packages (from tensorboard->keras-tuner) (3.3.6)\n",
            "Requirement already satisfied: protobuf>=3.6.0 in /usr/local/lib/python3.7/dist-packages (from tensorboard->keras-tuner) (3.17.3)\n",
            "Requirement already satisfied: werkzeug>=0.11.15 in /usr/local/lib/python3.7/dist-packages (from tensorboard->keras-tuner) (1.0.1)\n",
            "Requirement already satisfied: grpcio>=1.24.3 in /usr/local/lib/python3.7/dist-packages (from tensorboard->keras-tuner) (1.42.0)\n",
            "Requirement already satisfied: absl-py>=0.4 in /usr/local/lib/python3.7/dist-packages (from tensorboard->keras-tuner) (0.12.0)\n",
            "Requirement already satisfied: tensorboard-plugin-wit>=1.6.0 in /usr/local/lib/python3.7/dist-packages (from tensorboard->keras-tuner) (1.8.0)\n",
            "Requirement already satisfied: cachetools<5.0,>=2.0.0 in /usr/local/lib/python3.7/dist-packages (from google-auth<3,>=1.6.3->tensorboard->keras-tuner) (4.2.4)\n",
            "Requirement already satisfied: pyasn1-modules>=0.2.1 in /usr/local/lib/python3.7/dist-packages (from google-auth<3,>=1.6.3->tensorboard->keras-tuner) (0.2.8)\n",
            "Requirement already satisfied: rsa<5,>=3.1.4 in /usr/local/lib/python3.7/dist-packages (from google-auth<3,>=1.6.3->tensorboard->keras-tuner) (4.8)\n",
            "Requirement already satisfied: requests-oauthlib>=0.7.0 in /usr/local/lib/python3.7/dist-packages (from google-auth-oauthlib<0.5,>=0.4.1->tensorboard->keras-tuner) (1.3.0)\n",
            "Requirement already satisfied: importlib-metadata>=4.4 in /usr/local/lib/python3.7/dist-packages (from markdown>=2.6.8->tensorboard->keras-tuner) (4.8.2)\n",
            "Requirement already satisfied: typing-extensions>=3.6.4 in /usr/local/lib/python3.7/dist-packages (from importlib-metadata>=4.4->markdown>=2.6.8->tensorboard->keras-tuner) (3.10.0.2)\n",
            "Requirement already satisfied: zipp>=0.5 in /usr/local/lib/python3.7/dist-packages (from importlib-metadata>=4.4->markdown>=2.6.8->tensorboard->keras-tuner) (3.6.0)\n",
            "Requirement already satisfied: pyasn1<0.5.0,>=0.4.6 in /usr/local/lib/python3.7/dist-packages (from pyasn1-modules>=0.2.1->google-auth<3,>=1.6.3->tensorboard->keras-tuner) (0.4.8)\n",
            "Requirement already satisfied: oauthlib>=3.0.0 in /usr/local/lib/python3.7/dist-packages (from requests-oauthlib>=0.7.0->google-auth-oauthlib<0.5,>=0.4.1->tensorboard->keras-tuner) (3.1.1)\n",
            "Installing collected packages: kt-legacy, keras-tuner\n",
            "Successfully installed keras-tuner-1.1.0 kt-legacy-1.0.4\n"
          ]
        },
        {
          "output_type": "stream",
          "name": "stderr",
          "text": [
            "/usr/local/lib/python3.7/dist-packages/ipykernel_launcher.py:11: DeprecationWarning: `import kerastuner` is deprecated, please use `import keras_tuner`.\n",
            "  # This is added back by InteractiveShellApp.init_path()\n"
          ]
        }
      ]
    },
    {
      "cell_type": "code",
      "source": [
        "from IPython.core.interactiveshell import InteractiveShell\n",
        "InteractiveShell.ast_node_interactivity = \"all\""
      ],
      "metadata": {
        "id": "4qEYJymDx_FC"
      },
      "execution_count": null,
      "outputs": []
    },
    {
      "cell_type": "code",
      "source": [
        "from google.colab import drive\n",
        "drive.mount('/gdrive')"
      ],
      "metadata": {
        "colab": {
          "base_uri": "https://localhost:8080/"
        },
        "id": "A2fYmGHPyBA8",
        "outputId": "3c42cf77-8b47-4298-98e5-7e19580194aa"
      },
      "execution_count": null,
      "outputs": [
        {
          "output_type": "stream",
          "name": "stdout",
          "text": [
            "Mounted at /gdrive\n"
          ]
        }
      ]
    },
    {
      "cell_type": "code",
      "source": [
        "df_train = pd.read_csv('/content/Google_Stock_Price_Train.csv')\n"
      ],
      "metadata": {
        "execution": {
          "iopub.status.busy": "2021-10-24T16:36:07.989567Z",
          "iopub.execute_input": "2021-10-24T16:36:07.989847Z",
          "iopub.status.idle": "2021-10-24T16:36:08.008074Z",
          "shell.execute_reply.started": "2021-10-24T16:36:07.989818Z",
          "shell.execute_reply": "2021-10-24T16:36:08.006965Z"
        },
        "trusted": true,
        "id": "5QvgZaSIvm8X"
      },
      "execution_count": null,
      "outputs": []
    },
    {
      "cell_type": "code",
      "source": [
        "df_train.head()"
      ],
      "metadata": {
        "execution": {
          "iopub.status.busy": "2021-10-24T15:52:52.495371Z",
          "iopub.execute_input": "2021-10-24T15:52:52.495756Z",
          "iopub.status.idle": "2021-10-24T15:52:52.522067Z",
          "shell.execute_reply.started": "2021-10-24T15:52:52.495709Z",
          "shell.execute_reply": "2021-10-24T15:52:52.521394Z"
        },
        "trusted": true,
        "colab": {
          "base_uri": "https://localhost:8080/",
          "height": 206
        },
        "id": "aTeGdi4cvm8Y",
        "outputId": "b9ea3550-0a58-4044-b26f-d1dae479141d"
      },
      "execution_count": null,
      "outputs": [
        {
          "output_type": "execute_result",
          "data": {
            "text/html": [
              "\n",
              "  <div id=\"df-b8898c4f-1178-4138-8e52-3bbf544a9f75\">\n",
              "    <div class=\"colab-df-container\">\n",
              "      <div>\n",
              "<style scoped>\n",
              "    .dataframe tbody tr th:only-of-type {\n",
              "        vertical-align: middle;\n",
              "    }\n",
              "\n",
              "    .dataframe tbody tr th {\n",
              "        vertical-align: top;\n",
              "    }\n",
              "\n",
              "    .dataframe thead th {\n",
              "        text-align: right;\n",
              "    }\n",
              "</style>\n",
              "<table border=\"1\" class=\"dataframe\">\n",
              "  <thead>\n",
              "    <tr style=\"text-align: right;\">\n",
              "      <th></th>\n",
              "      <th>Date</th>\n",
              "      <th>Open</th>\n",
              "      <th>High</th>\n",
              "      <th>Low</th>\n",
              "      <th>Close</th>\n",
              "      <th>Volume</th>\n",
              "    </tr>\n",
              "  </thead>\n",
              "  <tbody>\n",
              "    <tr>\n",
              "      <th>0</th>\n",
              "      <td>1/3/2012</td>\n",
              "      <td>325.25</td>\n",
              "      <td>332.83</td>\n",
              "      <td>324.97</td>\n",
              "      <td>663.59</td>\n",
              "      <td>7,380,500</td>\n",
              "    </tr>\n",
              "    <tr>\n",
              "      <th>1</th>\n",
              "      <td>1/4/2012</td>\n",
              "      <td>331.27</td>\n",
              "      <td>333.87</td>\n",
              "      <td>329.08</td>\n",
              "      <td>666.45</td>\n",
              "      <td>5,749,400</td>\n",
              "    </tr>\n",
              "    <tr>\n",
              "      <th>2</th>\n",
              "      <td>1/5/2012</td>\n",
              "      <td>329.83</td>\n",
              "      <td>330.75</td>\n",
              "      <td>326.89</td>\n",
              "      <td>657.21</td>\n",
              "      <td>6,590,300</td>\n",
              "    </tr>\n",
              "    <tr>\n",
              "      <th>3</th>\n",
              "      <td>1/6/2012</td>\n",
              "      <td>328.34</td>\n",
              "      <td>328.77</td>\n",
              "      <td>323.68</td>\n",
              "      <td>648.24</td>\n",
              "      <td>5,405,900</td>\n",
              "    </tr>\n",
              "    <tr>\n",
              "      <th>4</th>\n",
              "      <td>1/9/2012</td>\n",
              "      <td>322.04</td>\n",
              "      <td>322.29</td>\n",
              "      <td>309.46</td>\n",
              "      <td>620.76</td>\n",
              "      <td>11,688,800</td>\n",
              "    </tr>\n",
              "  </tbody>\n",
              "</table>\n",
              "</div>\n",
              "      <button class=\"colab-df-convert\" onclick=\"convertToInteractive('df-b8898c4f-1178-4138-8e52-3bbf544a9f75')\"\n",
              "              title=\"Convert this dataframe to an interactive table.\"\n",
              "              style=\"display:none;\">\n",
              "        \n",
              "  <svg xmlns=\"http://www.w3.org/2000/svg\" height=\"24px\"viewBox=\"0 0 24 24\"\n",
              "       width=\"24px\">\n",
              "    <path d=\"M0 0h24v24H0V0z\" fill=\"none\"/>\n",
              "    <path d=\"M18.56 5.44l.94 2.06.94-2.06 2.06-.94-2.06-.94-.94-2.06-.94 2.06-2.06.94zm-11 1L8.5 8.5l.94-2.06 2.06-.94-2.06-.94L8.5 2.5l-.94 2.06-2.06.94zm10 10l.94 2.06.94-2.06 2.06-.94-2.06-.94-.94-2.06-.94 2.06-2.06.94z\"/><path d=\"M17.41 7.96l-1.37-1.37c-.4-.4-.92-.59-1.43-.59-.52 0-1.04.2-1.43.59L10.3 9.45l-7.72 7.72c-.78.78-.78 2.05 0 2.83L4 21.41c.39.39.9.59 1.41.59.51 0 1.02-.2 1.41-.59l7.78-7.78 2.81-2.81c.8-.78.8-2.07 0-2.86zM5.41 20L4 18.59l7.72-7.72 1.47 1.35L5.41 20z\"/>\n",
              "  </svg>\n",
              "      </button>\n",
              "      \n",
              "  <style>\n",
              "    .colab-df-container {\n",
              "      display:flex;\n",
              "      flex-wrap:wrap;\n",
              "      gap: 12px;\n",
              "    }\n",
              "\n",
              "    .colab-df-convert {\n",
              "      background-color: #E8F0FE;\n",
              "      border: none;\n",
              "      border-radius: 50%;\n",
              "      cursor: pointer;\n",
              "      display: none;\n",
              "      fill: #1967D2;\n",
              "      height: 32px;\n",
              "      padding: 0 0 0 0;\n",
              "      width: 32px;\n",
              "    }\n",
              "\n",
              "    .colab-df-convert:hover {\n",
              "      background-color: #E2EBFA;\n",
              "      box-shadow: 0px 1px 2px rgba(60, 64, 67, 0.3), 0px 1px 3px 1px rgba(60, 64, 67, 0.15);\n",
              "      fill: #174EA6;\n",
              "    }\n",
              "\n",
              "    [theme=dark] .colab-df-convert {\n",
              "      background-color: #3B4455;\n",
              "      fill: #D2E3FC;\n",
              "    }\n",
              "\n",
              "    [theme=dark] .colab-df-convert:hover {\n",
              "      background-color: #434B5C;\n",
              "      box-shadow: 0px 1px 3px 1px rgba(0, 0, 0, 0.15);\n",
              "      filter: drop-shadow(0px 1px 2px rgba(0, 0, 0, 0.3));\n",
              "      fill: #FFFFFF;\n",
              "    }\n",
              "  </style>\n",
              "\n",
              "      <script>\n",
              "        const buttonEl =\n",
              "          document.querySelector('#df-b8898c4f-1178-4138-8e52-3bbf544a9f75 button.colab-df-convert');\n",
              "        buttonEl.style.display =\n",
              "          google.colab.kernel.accessAllowed ? 'block' : 'none';\n",
              "\n",
              "        async function convertToInteractive(key) {\n",
              "          const element = document.querySelector('#df-b8898c4f-1178-4138-8e52-3bbf544a9f75');\n",
              "          const dataTable =\n",
              "            await google.colab.kernel.invokeFunction('convertToInteractive',\n",
              "                                                     [key], {});\n",
              "          if (!dataTable) return;\n",
              "\n",
              "          const docLinkHtml = 'Like what you see? Visit the ' +\n",
              "            '<a target=\"_blank\" href=https://colab.research.google.com/notebooks/data_table.ipynb>data table notebook</a>'\n",
              "            + ' to learn more about interactive tables.';\n",
              "          element.innerHTML = '';\n",
              "          dataTable['output_type'] = 'display_data';\n",
              "          await google.colab.output.renderOutput(dataTable, element);\n",
              "          const docLink = document.createElement('div');\n",
              "          docLink.innerHTML = docLinkHtml;\n",
              "          element.appendChild(docLink);\n",
              "        }\n",
              "      </script>\n",
              "    </div>\n",
              "  </div>\n",
              "  "
            ],
            "text/plain": [
              "       Date    Open    High     Low   Close      Volume\n",
              "0  1/3/2012  325.25  332.83  324.97  663.59   7,380,500\n",
              "1  1/4/2012  331.27  333.87  329.08  666.45   5,749,400\n",
              "2  1/5/2012  329.83  330.75  326.89  657.21   6,590,300\n",
              "3  1/6/2012  328.34  328.77  323.68  648.24   5,405,900\n",
              "4  1/9/2012  322.04  322.29  309.46  620.76  11,688,800"
            ]
          },
          "metadata": {},
          "execution_count": 5
        }
      ]
    },
    {
      "cell_type": "code",
      "source": [
        "df_train.shape"
      ],
      "metadata": {
        "colab": {
          "base_uri": "https://localhost:8080/"
        },
        "id": "KUwuPuqRyS3Q",
        "outputId": "0606e0e0-3c26-40af-9bf7-d971c11864e8"
      },
      "execution_count": null,
      "outputs": [
        {
          "output_type": "execute_result",
          "data": {
            "text/plain": [
              "(1258, 6)"
            ]
          },
          "metadata": {},
          "execution_count": 6
        }
      ]
    },
    {
      "cell_type": "code",
      "source": [
        "df_train.isnull().sum()"
      ],
      "metadata": {
        "colab": {
          "base_uri": "https://localhost:8080/"
        },
        "id": "hoV3Vz_RyZKR",
        "outputId": "915d3de2-9a40-405f-dd88-4c7eea623d2a"
      },
      "execution_count": null,
      "outputs": [
        {
          "output_type": "execute_result",
          "data": {
            "text/plain": [
              "Date      0\n",
              "Open      0\n",
              "High      0\n",
              "Low       0\n",
              "Close     0\n",
              "Volume    0\n",
              "dtype: int64"
            ]
          },
          "metadata": {},
          "execution_count": 7
        }
      ]
    },
    {
      "cell_type": "code",
      "source": [
        "df_train.info()"
      ],
      "metadata": {
        "colab": {
          "base_uri": "https://localhost:8080/"
        },
        "id": "i9pgw649yds6",
        "outputId": "1ee261e8-8ad6-4b90-f0b7-f3b959b857f5"
      },
      "execution_count": null,
      "outputs": [
        {
          "output_type": "stream",
          "name": "stdout",
          "text": [
            "<class 'pandas.core.frame.DataFrame'>\n",
            "RangeIndex: 1258 entries, 0 to 1257\n",
            "Data columns (total 6 columns):\n",
            " #   Column  Non-Null Count  Dtype  \n",
            "---  ------  --------------  -----  \n",
            " 0   Date    1258 non-null   object \n",
            " 1   Open    1258 non-null   float64\n",
            " 2   High    1258 non-null   float64\n",
            " 3   Low     1258 non-null   float64\n",
            " 4   Close   1258 non-null   object \n",
            " 5   Volume  1258 non-null   object \n",
            "dtypes: float64(3), object(3)\n",
            "memory usage: 59.1+ KB\n"
          ]
        }
      ]
    },
    {
      "cell_type": "code",
      "source": [
        "df_train.describe()"
      ],
      "metadata": {
        "colab": {
          "base_uri": "https://localhost:8080/",
          "height": 300
        },
        "id": "WH-oreJiyjZi",
        "outputId": "d522e091-212b-43a4-ea86-3b110f3634c0"
      },
      "execution_count": null,
      "outputs": [
        {
          "output_type": "execute_result",
          "data": {
            "text/html": [
              "\n",
              "  <div id=\"df-ec8f435b-2f4d-4b5b-b071-1902615118fe\">\n",
              "    <div class=\"colab-df-container\">\n",
              "      <div>\n",
              "<style scoped>\n",
              "    .dataframe tbody tr th:only-of-type {\n",
              "        vertical-align: middle;\n",
              "    }\n",
              "\n",
              "    .dataframe tbody tr th {\n",
              "        vertical-align: top;\n",
              "    }\n",
              "\n",
              "    .dataframe thead th {\n",
              "        text-align: right;\n",
              "    }\n",
              "</style>\n",
              "<table border=\"1\" class=\"dataframe\">\n",
              "  <thead>\n",
              "    <tr style=\"text-align: right;\">\n",
              "      <th></th>\n",
              "      <th>Open</th>\n",
              "      <th>High</th>\n",
              "      <th>Low</th>\n",
              "    </tr>\n",
              "  </thead>\n",
              "  <tbody>\n",
              "    <tr>\n",
              "      <th>count</th>\n",
              "      <td>1258.000000</td>\n",
              "      <td>1258.000000</td>\n",
              "      <td>1258.000000</td>\n",
              "    </tr>\n",
              "    <tr>\n",
              "      <th>mean</th>\n",
              "      <td>533.709833</td>\n",
              "      <td>537.880223</td>\n",
              "      <td>529.007409</td>\n",
              "    </tr>\n",
              "    <tr>\n",
              "      <th>std</th>\n",
              "      <td>151.904442</td>\n",
              "      <td>153.008811</td>\n",
              "      <td>150.552807</td>\n",
              "    </tr>\n",
              "    <tr>\n",
              "      <th>min</th>\n",
              "      <td>279.120000</td>\n",
              "      <td>281.210000</td>\n",
              "      <td>277.220000</td>\n",
              "    </tr>\n",
              "    <tr>\n",
              "      <th>25%</th>\n",
              "      <td>404.115000</td>\n",
              "      <td>406.765000</td>\n",
              "      <td>401.765000</td>\n",
              "    </tr>\n",
              "    <tr>\n",
              "      <th>50%</th>\n",
              "      <td>537.470000</td>\n",
              "      <td>540.750000</td>\n",
              "      <td>532.990000</td>\n",
              "    </tr>\n",
              "    <tr>\n",
              "      <th>75%</th>\n",
              "      <td>654.922500</td>\n",
              "      <td>662.587500</td>\n",
              "      <td>644.800000</td>\n",
              "    </tr>\n",
              "    <tr>\n",
              "      <th>max</th>\n",
              "      <td>816.680000</td>\n",
              "      <td>816.680000</td>\n",
              "      <td>805.140000</td>\n",
              "    </tr>\n",
              "  </tbody>\n",
              "</table>\n",
              "</div>\n",
              "      <button class=\"colab-df-convert\" onclick=\"convertToInteractive('df-ec8f435b-2f4d-4b5b-b071-1902615118fe')\"\n",
              "              title=\"Convert this dataframe to an interactive table.\"\n",
              "              style=\"display:none;\">\n",
              "        \n",
              "  <svg xmlns=\"http://www.w3.org/2000/svg\" height=\"24px\"viewBox=\"0 0 24 24\"\n",
              "       width=\"24px\">\n",
              "    <path d=\"M0 0h24v24H0V0z\" fill=\"none\"/>\n",
              "    <path d=\"M18.56 5.44l.94 2.06.94-2.06 2.06-.94-2.06-.94-.94-2.06-.94 2.06-2.06.94zm-11 1L8.5 8.5l.94-2.06 2.06-.94-2.06-.94L8.5 2.5l-.94 2.06-2.06.94zm10 10l.94 2.06.94-2.06 2.06-.94-2.06-.94-.94-2.06-.94 2.06-2.06.94z\"/><path d=\"M17.41 7.96l-1.37-1.37c-.4-.4-.92-.59-1.43-.59-.52 0-1.04.2-1.43.59L10.3 9.45l-7.72 7.72c-.78.78-.78 2.05 0 2.83L4 21.41c.39.39.9.59 1.41.59.51 0 1.02-.2 1.41-.59l7.78-7.78 2.81-2.81c.8-.78.8-2.07 0-2.86zM5.41 20L4 18.59l7.72-7.72 1.47 1.35L5.41 20z\"/>\n",
              "  </svg>\n",
              "      </button>\n",
              "      \n",
              "  <style>\n",
              "    .colab-df-container {\n",
              "      display:flex;\n",
              "      flex-wrap:wrap;\n",
              "      gap: 12px;\n",
              "    }\n",
              "\n",
              "    .colab-df-convert {\n",
              "      background-color: #E8F0FE;\n",
              "      border: none;\n",
              "      border-radius: 50%;\n",
              "      cursor: pointer;\n",
              "      display: none;\n",
              "      fill: #1967D2;\n",
              "      height: 32px;\n",
              "      padding: 0 0 0 0;\n",
              "      width: 32px;\n",
              "    }\n",
              "\n",
              "    .colab-df-convert:hover {\n",
              "      background-color: #E2EBFA;\n",
              "      box-shadow: 0px 1px 2px rgba(60, 64, 67, 0.3), 0px 1px 3px 1px rgba(60, 64, 67, 0.15);\n",
              "      fill: #174EA6;\n",
              "    }\n",
              "\n",
              "    [theme=dark] .colab-df-convert {\n",
              "      background-color: #3B4455;\n",
              "      fill: #D2E3FC;\n",
              "    }\n",
              "\n",
              "    [theme=dark] .colab-df-convert:hover {\n",
              "      background-color: #434B5C;\n",
              "      box-shadow: 0px 1px 3px 1px rgba(0, 0, 0, 0.15);\n",
              "      filter: drop-shadow(0px 1px 2px rgba(0, 0, 0, 0.3));\n",
              "      fill: #FFFFFF;\n",
              "    }\n",
              "  </style>\n",
              "\n",
              "      <script>\n",
              "        const buttonEl =\n",
              "          document.querySelector('#df-ec8f435b-2f4d-4b5b-b071-1902615118fe button.colab-df-convert');\n",
              "        buttonEl.style.display =\n",
              "          google.colab.kernel.accessAllowed ? 'block' : 'none';\n",
              "\n",
              "        async function convertToInteractive(key) {\n",
              "          const element = document.querySelector('#df-ec8f435b-2f4d-4b5b-b071-1902615118fe');\n",
              "          const dataTable =\n",
              "            await google.colab.kernel.invokeFunction('convertToInteractive',\n",
              "                                                     [key], {});\n",
              "          if (!dataTable) return;\n",
              "\n",
              "          const docLinkHtml = 'Like what you see? Visit the ' +\n",
              "            '<a target=\"_blank\" href=https://colab.research.google.com/notebooks/data_table.ipynb>data table notebook</a>'\n",
              "            + ' to learn more about interactive tables.';\n",
              "          element.innerHTML = '';\n",
              "          dataTable['output_type'] = 'display_data';\n",
              "          await google.colab.output.renderOutput(dataTable, element);\n",
              "          const docLink = document.createElement('div');\n",
              "          docLink.innerHTML = docLinkHtml;\n",
              "          element.appendChild(docLink);\n",
              "        }\n",
              "      </script>\n",
              "    </div>\n",
              "  </div>\n",
              "  "
            ],
            "text/plain": [
              "              Open         High          Low\n",
              "count  1258.000000  1258.000000  1258.000000\n",
              "mean    533.709833   537.880223   529.007409\n",
              "std     151.904442   153.008811   150.552807\n",
              "min     279.120000   281.210000   277.220000\n",
              "25%     404.115000   406.765000   401.765000\n",
              "50%     537.470000   540.750000   532.990000\n",
              "75%     654.922500   662.587500   644.800000\n",
              "max     816.680000   816.680000   805.140000"
            ]
          },
          "metadata": {},
          "execution_count": 9
        }
      ]
    },
    {
      "cell_type": "code",
      "source": [
        "df_train['Date']=pd.to_datetime(df_train['Date'])"
      ],
      "metadata": {
        "id": "VYql90Zzym6Q"
      },
      "execution_count": null,
      "outputs": []
    },
    {
      "cell_type": "code",
      "source": [
        "print(\"Minimum date value : {}\".format(df_train['Date'].min()))\n",
        "print(\"Maximum date value : {}\".format(df_train['Date'].max()))"
      ],
      "metadata": {
        "colab": {
          "base_uri": "https://localhost:8080/"
        },
        "id": "dTJ0qkTAyzP4",
        "outputId": "1188b3d7-0d01-4abb-bdb2-170fb51198dc"
      },
      "execution_count": null,
      "outputs": [
        {
          "output_type": "stream",
          "name": "stdout",
          "text": [
            "Minimum date value : 2012-01-03 00:00:00\n",
            "Maximum date value : 2016-12-30 00:00:00\n"
          ]
        }
      ]
    },
    {
      "cell_type": "code",
      "source": [
        "df_closing = df_train['Close'].apply(lambda x : x.replace(',', '')).astype('float')\n",
        "df_closing.head()"
      ],
      "metadata": {
        "execution": {
          "iopub.status.busy": "2021-10-24T16:36:10.934689Z",
          "iopub.execute_input": "2021-10-24T16:36:10.935634Z",
          "iopub.status.idle": "2021-10-24T16:36:10.947667Z",
          "shell.execute_reply.started": "2021-10-24T16:36:10.935575Z",
          "shell.execute_reply": "2021-10-24T16:36:10.946632Z"
        },
        "trusted": true,
        "colab": {
          "base_uri": "https://localhost:8080/"
        },
        "id": "tCy7rnvMvm8a",
        "outputId": "8e1791bd-5b62-4d05-bb84-ccc452407cbf"
      },
      "execution_count": null,
      "outputs": [
        {
          "output_type": "execute_result",
          "data": {
            "text/plain": [
              "0    663.59\n",
              "1    666.45\n",
              "2    657.21\n",
              "3    648.24\n",
              "4    620.76\n",
              "Name: Close, dtype: float64"
            ]
          },
          "metadata": {},
          "execution_count": 12
        }
      ]
    },
    {
      "cell_type": "code",
      "source": [
        "plt.plot(df_closing.values);\n",
        "plt.title(\"Closing prices for the data\");"
      ],
      "metadata": {
        "execution": {
          "iopub.status.busy": "2021-10-24T15:52:52.537811Z",
          "iopub.execute_input": "2021-10-24T15:52:52.538188Z",
          "iopub.status.idle": "2021-10-24T15:52:52.92101Z",
          "shell.execute_reply.started": "2021-10-24T15:52:52.538142Z",
          "shell.execute_reply": "2021-10-24T15:52:52.920184Z"
        },
        "trusted": true,
        "colab": {
          "base_uri": "https://localhost:8080/",
          "height": 281
        },
        "id": "o8phJEoJvm8d",
        "outputId": "b761423c-6cf4-4d82-8e77-f471ea9ba196"
      },
      "execution_count": null,
      "outputs": [
        {
          "output_type": "display_data",
          "data": {
            "image/png": "[encoded data removed]",
            "text/plain": [
              "<Figure size 432x288 with 1 Axes>"
            ]
          },
          "metadata": {
            "needs_background": "light"
          }
        }
      ]
    },
    {
      "cell_type": "code",
      "source": [
        "# Scaling The Data\n",
        "scaler=MinMaxScaler(feature_range=(0,1))\n",
        "df_closing=scaler.fit_transform(np.array(df_closing).reshape(-1,1))"
      ],
      "metadata": {
        "execution": {
          "iopub.status.busy": "2021-10-24T16:36:14.548530Z",
          "iopub.execute_input": "2021-10-24T16:36:14.548856Z",
          "iopub.status.idle": "2021-10-24T16:36:14.556904Z",
          "shell.execute_reply.started": "2021-10-24T16:36:14.548823Z",
          "shell.execute_reply": "2021-10-24T16:36:14.555674Z"
        },
        "trusted": true,
        "id": "DE_WFka_vm8e"
      },
      "execution_count": null,
      "outputs": []
    },
    {
      "cell_type": "code",
      "source": [
        "def create_dataset(dataset, time_step=1):\n",
        "    x_data, y_data = [], []\n",
        "    \n",
        "    for i in range(len(dataset)-time_step-1):\n",
        "        x_data.append(dataset[i:(i+time_step), 0])\n",
        "        y_data.append(dataset[i + time_step, 0])\n",
        "    return np.array(x_data), np.array(y_data)"
      ],
      "metadata": {
        "execution": {
          "iopub.status.busy": "2021-10-24T16:36:16.894605Z",
          "iopub.execute_input": "2021-10-24T16:36:16.894962Z",
          "iopub.status.idle": "2021-10-24T16:36:16.902654Z",
          "shell.execute_reply.started": "2021-10-24T16:36:16.894916Z",
          "shell.execute_reply": "2021-10-24T16:36:16.901778Z"
        },
        "trusted": true,
        "id": "FqBFB9e3vm8f"
      },
      "execution_count": null,
      "outputs": []
    },
    {
      "cell_type": "code",
      "source": [
        "# Preparing train and test data\n",
        "\n",
        "training_size=int(len(df_closing)*0.65)\n",
        "test_size=len(df_closing)-training_size\n",
        "train_data,test_data=df_closing[0:training_size,:],df_closing[training_size:len(df_closing),:1]"
      ],
      "metadata": {
        "execution": {
          "iopub.status.busy": "2021-10-24T16:36:19.296048Z",
          "iopub.execute_input": "2021-10-24T16:36:19.296361Z",
          "iopub.status.idle": "2021-10-24T16:36:19.303811Z",
          "shell.execute_reply.started": "2021-10-24T16:36:19.296330Z",
          "shell.execute_reply": "2021-10-24T16:36:19.302717Z"
        },
        "trusted": true,
        "id": "ojPjBIDmvm8f"
      },
      "execution_count": null,
      "outputs": []
    },
    {
      "cell_type": "code",
      "source": [
        "#Taking data for past 100 days for next prediction\n",
        "time_step = 100\n",
        "\n",
        "X_train, y_train = create_dataset(train_data, time_step)\n",
        "X_test, ytest = create_dataset(test_data, time_step)"
      ],
      "metadata": {
        "execution": {
          "iopub.status.busy": "2021-10-24T16:36:21.363025Z",
          "iopub.execute_input": "2021-10-24T16:36:21.363361Z",
          "iopub.status.idle": "2021-10-24T16:36:21.373369Z",
          "shell.execute_reply.started": "2021-10-24T16:36:21.363327Z",
          "shell.execute_reply": "2021-10-24T16:36:21.372054Z"
        },
        "trusted": true,
        "id": "5ALK-5CZvm8g"
      },
      "execution_count": null,
      "outputs": []
    },
    {
      "cell_type": "code",
      "source": [
        "X_train =X_train.reshape(X_train.shape[0],X_train.shape[1] , 1)\n",
        "X_test = X_test.reshape(X_test.shape[0],X_test.shape[1] , 1)"
      ],
      "metadata": {
        "execution": {
          "iopub.status.busy": "2021-10-24T16:36:24.430133Z",
          "iopub.execute_input": "2021-10-24T16:36:24.430459Z",
          "iopub.status.idle": "2021-10-24T16:36:24.436311Z",
          "shell.execute_reply.started": "2021-10-24T16:36:24.430427Z",
          "shell.execute_reply": "2021-10-24T16:36:24.435203Z"
        },
        "trusted": true,
        "id": "HYE6NKU2vm8g"
      },
      "execution_count": null,
      "outputs": []
    },
    {
      "cell_type": "markdown",
      "source": [
        "<a id=\"4\"></a>\n",
        "\n",
        "# <p style=\"background-color:#DC143C;font-family:newtimeroman;color:#000000;font-size:150%;text-align:center;border-radius:40px 40px;\">Modelling With LSTM And Tuning The Hyperparameters</p>"
      ],
      "metadata": {
        "id": "5N_gHv_evm8h"
      }
    },
    {
      "cell_type": "code",
      "source": [
        "def build_model(hp):\n",
        "    model = Sequential()\n",
        "    model.add(layers.LSTM(units = hp.Choice('layer1_units', [10,20,30,40,50,60,70,80,90,100]),return_sequences=True,input_shape=(100,1)))\n",
        "    \n",
        "    for i in range(hp.Int('num_layers', 2, 15)):                        \n",
        "        model.add(layers.LSTM(units =  hp.Int('units' + str(i), min_value=10, max_value=150, step=10), return_sequences=True))\n",
        "    \n",
        "    model.add(LSTM(units = hp.Choice('last_lstm_units', [50, 100, 150])))\n",
        "    model.add(Dropout(rate = hp.Choice('rate', [0.3, 0.4, 0.5, 0.6, 0.7])))\n",
        "    model.add(Dense(1))\n",
        "    model.compile(loss='mean_squared_error',optimizer='adam' )\n",
        "    return model\n",
        "\n",
        "\n",
        "tuner = RandomSearch(\n",
        "    build_model,\n",
        "    objective='val_loss',\n",
        "    max_trials= 5,\n",
        "    executions_per_trial=3,\n",
        "    directory='project', project_name = 'Stacked_LSTM_Stock_Prediction')\n",
        "\n",
        "tuner.search_space_summary()\n",
        "\n",
        "tuner.search(X_train, y_train,\n",
        "             epochs= 5,\n",
        "             validation_data=(X_test, ytest))"
      ],
      "metadata": {
        "execution": {
          "iopub.status.busy": "2021-10-24T16:56:59.738053Z",
          "iopub.execute_input": "2021-10-24T16:56:59.738371Z",
          "iopub.status.idle": "2021-10-24T17:24:35.719427Z",
          "shell.execute_reply.started": "2021-10-24T16:56:59.738341Z",
          "shell.execute_reply": "2021-10-24T17:24:35.718647Z"
        },
        "trusted": true,
        "colab": {
          "base_uri": "https://localhost:8080/"
        },
        "id": "7ciGMcMGvm8h",
        "outputId": "29cecdb3-9857-479f-da94-9737acbfc58c"
      },
      "execution_count": null,
      "outputs": [
        {
          "output_type": "stream",
          "name": "stdout",
          "text": [
            "Trial 5 Complete [00h 05m 04s]\n",
            "val_loss: 0.0027984684177984795\n",
            "\n",
            "Best val_loss So Far: 0.0027984684177984795\n",
            "Total elapsed time: 00h 24m 07s\n",
            "INFO:tensorflow:Oracle triggered exit\n"
          ]
        }
      ]
    },
    {
      "cell_type": "code",
      "source": [
        "tuner.results_summary()\n"
      ],
      "metadata": {
        "execution": {
          "iopub.status.busy": "2021-10-24T17:27:15.405485Z",
          "iopub.execute_input": "2021-10-24T17:27:15.405838Z",
          "iopub.status.idle": "2021-10-24T17:27:15.435282Z",
          "shell.execute_reply.started": "2021-10-24T17:27:15.405803Z",
          "shell.execute_reply": "2021-10-24T17:27:15.434175Z"
        },
        "trusted": true,
        "colab": {
          "base_uri": "https://localhost:8080/"
        },
        "id": "YGIUC3z9vm8i",
        "outputId": "5e42b346-c61a-428e-a870-ff284be3e07d"
      },
      "execution_count": null,
      "outputs": [
        {
          "output_type": "stream",
          "name": "stdout",
          "text": [
            "Results summary\n",
            "Results in project/Stacked_LSTM_Stock_Prediction\n",
            "Showing 10 best trials\n",
            "Objective(name='val_loss', direction='min')\n",
            "Trial summary\n",
            "Hyperparameters:\n",
            "layer1_units: 40\n",
            "num_layers: 8\n",
            "units0: 60\n",
            "units1: 120\n",
            "last_lstm_units: 100\n",
            "rate: 0.5\n",
            "units2: 30\n",
            "units3: 150\n",
            "units4: 70\n",
            "units5: 40\n",
            "units6: 20\n",
            "units7: 90\n",
            "units8: 110\n",
            "units9: 50\n",
            "units10: 60\n",
            "units11: 60\n",
            "units12: 130\n",
            "units13: 60\n",
            "Score: 0.0027984684177984795\n",
            "Trial summary\n",
            "Hyperparameters:\n",
            "layer1_units: 20\n",
            "num_layers: 12\n",
            "units0: 110\n",
            "units1: 50\n",
            "last_lstm_units: 150\n",
            "rate: 0.6\n",
            "units2: 20\n",
            "units3: 30\n",
            "units4: 130\n",
            "units5: 80\n",
            "units6: 70\n",
            "units7: 90\n",
            "units8: 110\n",
            "units9: 60\n",
            "units10: 80\n",
            "units11: 130\n",
            "Score: 0.0034568350141247115\n",
            "Trial summary\n",
            "Hyperparameters:\n",
            "layer1_units: 60\n",
            "num_layers: 8\n",
            "units0: 80\n",
            "units1: 90\n",
            "last_lstm_units: 100\n",
            "rate: 0.4\n",
            "units2: 10\n",
            "units3: 10\n",
            "units4: 10\n",
            "units5: 10\n",
            "units6: 10\n",
            "units7: 10\n",
            "Score: 0.0036224888948102794\n",
            "Trial summary\n",
            "Hyperparameters:\n",
            "layer1_units: 70\n",
            "num_layers: 12\n",
            "units0: 110\n",
            "units1: 150\n",
            "last_lstm_units: 100\n",
            "rate: 0.3\n",
            "units2: 130\n",
            "units3: 70\n",
            "units4: 100\n",
            "units5: 60\n",
            "units6: 50\n",
            "units7: 110\n",
            "units8: 10\n",
            "units9: 10\n",
            "units10: 10\n",
            "units11: 10\n",
            "Score: 0.004405458457767963\n",
            "Trial summary\n",
            "Hyperparameters:\n",
            "layer1_units: 30\n",
            "num_layers: 14\n",
            "units0: 50\n",
            "units1: 40\n",
            "last_lstm_units: 150\n",
            "rate: 0.4\n",
            "units2: 10\n",
            "units3: 80\n",
            "units4: 80\n",
            "units5: 130\n",
            "units6: 60\n",
            "units7: 80\n",
            "units8: 80\n",
            "units9: 20\n",
            "units10: 70\n",
            "units11: 80\n",
            "units12: 10\n",
            "units13: 10\n",
            "Score: 0.006378580039987962\n"
          ]
        }
      ]
    },
    {
      "cell_type": "code",
      "source": [
        "model=tuner.get_best_models(num_models=1)[0]\n",
        "model.summary()"
      ],
      "metadata": {
        "execution": {
          "iopub.status.busy": "2021-10-24T17:25:01.982628Z",
          "iopub.execute_input": "2021-10-24T17:25:01.983320Z",
          "iopub.status.idle": "2021-10-24T17:25:04.771943Z",
          "shell.execute_reply.started": "2021-10-24T17:25:01.983272Z",
          "shell.execute_reply": "2021-10-24T17:25:04.771064Z"
        },
        "trusted": true,
        "colab": {
          "base_uri": "https://localhost:8080/"
        },
        "id": "2vbQkMQHvm8j",
        "outputId": "db0b91cb-ab0d-44d4-d0e6-44a7a17cbff5"
      },
      "execution_count": null,
      "outputs": [
        {
          "output_type": "stream",
          "name": "stdout",
          "text": [
            "Model: \"sequential\"\n",
            "_________________________________________________________________\n",
            " Layer (type)                Output Shape              Param #   \n",
            "=================================================================\n",
            " lstm (LSTM)                 (None, 100, 40)           6720      \n",
            "                                                                 \n",
            " lstm_1 (LSTM)               (None, 100, 60)           24240     \n",
            "                                                                 \n",
            " lstm_2 (LSTM)               (None, 100, 120)          86880     \n",
            "                                                                 \n",
            " lstm_3 (LSTM)               (None, 100, 30)           18120     \n",
            "                                                                 \n",
            " lstm_4 (LSTM)               (None, 100, 150)          108600    \n",
            "                                                                 \n",
            " lstm_5 (LSTM)               (None, 100, 70)           61880     \n",
            "                                                                 \n",
            " lstm_6 (LSTM)               (None, 100, 40)           17760     \n",
            "                                                                 \n",
            " lstm_7 (LSTM)               (None, 100, 20)           4880      \n",
            "                                                                 \n",
            " lstm_8 (LSTM)               (None, 100, 90)           39960     \n",
            "                                                                 \n",
            " lstm_9 (LSTM)               (None, 100)               76400     \n",
            "                                                                 \n",
            " dropout (Dropout)           (None, 100)               0         \n",
            "                                                                 \n",
            " dense (Dense)               (None, 1)                 101       \n",
            "                                                                 \n",
            "=================================================================\n",
            "Total params: 445,541\n",
            "Trainable params: 445,541\n",
            "Non-trainable params: 0\n",
            "_________________________________________________________________\n"
          ]
        }
      ]
    },
    {
      "cell_type": "code",
      "source": [
        "from tensorflow.keras.utils import plot_model\n",
        "plot_model(model, show_shapes= True)"
      ],
      "metadata": {
        "colab": {
          "base_uri": "https://localhost:8080/",
          "height": 1000
        },
        "id": "Xs8xErLazsYY",
        "outputId": "b9821279-b8b8-433b-c973-f5fe652132b9"
      },
      "execution_count": null,
      "outputs": [
        {
          "output_type": "execute_result",
          "data": {
            "image/png": "[encoded data removed]",
            "text/plain": [
              "<IPython.core.display.Image object>"
            ]
          },
          "metadata": {},
          "execution_count": 23
        }
      ]
    },
    {
      "cell_type": "code",
      "source": [
        "model_history = model.fit(X_train,y_train, epochs=50, validation_data=(X_test,ytest))"
      ],
      "metadata": {
        "execution": {
          "iopub.status.busy": "2021-10-24T17:29:23.774492Z",
          "iopub.execute_input": "2021-10-24T17:29:23.774835Z",
          "iopub.status.idle": "2021-10-24T17:43:57.340503Z",
          "shell.execute_reply.started": "2021-10-24T17:29:23.774802Z",
          "shell.execute_reply": "2021-10-24T17:43:57.339722Z"
        },
        "trusted": true,
        "colab": {
          "base_uri": "https://localhost:8080/"
        },
        "id": "niG8_RLFvm8j",
        "outputId": "544780e6-37eb-4342-e522-6539dbc76fc3"
      },
      "execution_count": null,
      "outputs": [
        {
          "output_type": "stream",
          "name": "stdout",
          "text": [
            "Epoch 1/50\n",
            "23/23 [==============================] - 32s 596ms/step - loss: 0.0255 - val_loss: 0.0039\n",
            "Epoch 2/50\n",
            "23/23 [==============================] - 8s 334ms/step - loss: 0.0187 - val_loss: 0.0026\n",
            "Epoch 3/50\n",
            "23/23 [==============================] - 8s 332ms/step - loss: 0.0243 - val_loss: 0.0024\n",
            "Epoch 4/50\n",
            "23/23 [==============================] - 8s 332ms/step - loss: 0.0199 - val_loss: 0.0022\n",
            "Epoch 5/50\n",
            "23/23 [==============================] - 8s 330ms/step - loss: 0.0137 - val_loss: 0.0022\n",
            "Epoch 6/50\n",
            "23/23 [==============================] - 8s 333ms/step - loss: 0.0149 - val_loss: 0.0060\n",
            "Epoch 7/50\n",
            "23/23 [==============================] - 8s 335ms/step - loss: 0.0171 - val_loss: 0.0033\n",
            "Epoch 8/50\n",
            "23/23 [==============================] - 8s 334ms/step - loss: 0.0123 - val_loss: 0.0020\n",
            "Epoch 9/50\n",
            "23/23 [==============================] - 8s 334ms/step - loss: 0.0099 - val_loss: 0.0021\n",
            "Epoch 10/50\n",
            "23/23 [==============================] - 8s 334ms/step - loss: 0.0100 - val_loss: 0.0037\n",
            "Epoch 11/50\n",
            "23/23 [==============================] - 8s 334ms/step - loss: 0.0083 - val_loss: 0.0024\n",
            "Epoch 12/50\n",
            "23/23 [==============================] - 8s 334ms/step - loss: 0.0069 - val_loss: 0.0031\n",
            "Epoch 13/50\n",
            "23/23 [==============================] - 8s 333ms/step - loss: 0.0068 - val_loss: 0.0021\n",
            "Epoch 14/50\n",
            "23/23 [==============================] - 8s 334ms/step - loss: 0.0135 - val_loss: 0.0018\n",
            "Epoch 15/50\n",
            "23/23 [==============================] - 8s 332ms/step - loss: 0.0218 - val_loss: 0.0030\n",
            "Epoch 16/50\n",
            "23/23 [==============================] - 8s 332ms/step - loss: 0.0178 - val_loss: 0.0031\n",
            "Epoch 17/50\n",
            "23/23 [==============================] - 8s 329ms/step - loss: 0.0169 - val_loss: 0.0024\n",
            "Epoch 18/50\n",
            "23/23 [==============================] - 8s 335ms/step - loss: 0.0102 - val_loss: 0.0022\n",
            "Epoch 19/50\n",
            "23/23 [==============================] - 8s 335ms/step - loss: 0.0104 - val_loss: 0.0033\n",
            "Epoch 20/50\n",
            "23/23 [==============================] - 8s 334ms/step - loss: 0.0120 - val_loss: 0.0025\n",
            "Epoch 21/50\n",
            "23/23 [==============================] - 8s 333ms/step - loss: 0.0137 - val_loss: 0.0024\n",
            "Epoch 22/50\n",
            "23/23 [==============================] - 8s 334ms/step - loss: 0.0103 - val_loss: 0.0021\n",
            "Epoch 23/50\n",
            "23/23 [==============================] - 8s 334ms/step - loss: 0.0097 - val_loss: 0.0018\n",
            "Epoch 24/50\n",
            "23/23 [==============================] - 8s 334ms/step - loss: 0.0077 - val_loss: 0.0017\n",
            "Epoch 25/50\n",
            "23/23 [==============================] - 8s 333ms/step - loss: 0.0055 - val_loss: 0.0035\n",
            "Epoch 26/50\n",
            "23/23 [==============================] - 8s 332ms/step - loss: 0.0076 - val_loss: 0.0015\n",
            "Epoch 27/50\n",
            "23/23 [==============================] - 8s 333ms/step - loss: 0.0084 - val_loss: 0.0024\n",
            "Epoch 28/50\n",
            "23/23 [==============================] - 8s 332ms/step - loss: 0.0064 - val_loss: 0.0017\n",
            "Epoch 29/50\n",
            "23/23 [==============================] - 8s 332ms/step - loss: 0.0071 - val_loss: 0.0023\n",
            "Epoch 30/50\n",
            "23/23 [==============================] - 8s 331ms/step - loss: 0.0088 - val_loss: 0.0021\n",
            "Epoch 31/50\n",
            "23/23 [==============================] - 8s 333ms/step - loss: 0.0063 - val_loss: 0.0016\n",
            "Epoch 32/50\n",
            "23/23 [==============================] - 8s 331ms/step - loss: 0.0054 - val_loss: 0.0015\n",
            "Epoch 33/50\n",
            "23/23 [==============================] - 7s 328ms/step - loss: 0.0048 - val_loss: 0.0017\n",
            "Epoch 34/50\n",
            "23/23 [==============================] - 8s 334ms/step - loss: 0.0063 - val_loss: 0.0015\n",
            "Epoch 35/50\n",
            "23/23 [==============================] - 8s 334ms/step - loss: 0.0072 - val_loss: 0.0024\n",
            "Epoch 36/50\n",
            "23/23 [==============================] - 8s 334ms/step - loss: 0.0077 - val_loss: 0.0043\n",
            "Epoch 37/50\n",
            "23/23 [==============================] - 8s 332ms/step - loss: 0.0060 - val_loss: 0.0017\n",
            "Epoch 38/50\n",
            "23/23 [==============================] - 8s 334ms/step - loss: 0.0063 - val_loss: 0.0016\n",
            "Epoch 39/50\n",
            "23/23 [==============================] - 8s 332ms/step - loss: 0.0047 - val_loss: 0.0013\n",
            "Epoch 40/50\n",
            "23/23 [==============================] - 8s 333ms/step - loss: 0.0046 - val_loss: 0.0016\n",
            "Epoch 41/50\n",
            "23/23 [==============================] - 8s 333ms/step - loss: 0.0049 - val_loss: 0.0013\n",
            "Epoch 42/50\n",
            "23/23 [==============================] - 8s 332ms/step - loss: 0.0052 - val_loss: 0.0019\n",
            "Epoch 43/50\n",
            "23/23 [==============================] - 8s 334ms/step - loss: 0.0054 - val_loss: 0.0015\n",
            "Epoch 44/50\n",
            "23/23 [==============================] - 8s 332ms/step - loss: 0.0042 - val_loss: 0.0017\n",
            "Epoch 45/50\n",
            "23/23 [==============================] - 8s 334ms/step - loss: 0.0042 - val_loss: 0.0012\n",
            "Epoch 46/50\n",
            "23/23 [==============================] - 8s 333ms/step - loss: 0.0036 - val_loss: 0.0015\n",
            "Epoch 47/50\n",
            "23/23 [==============================] - 8s 332ms/step - loss: 0.0046 - val_loss: 0.0015\n",
            "Epoch 48/50\n",
            "23/23 [==============================] - 8s 333ms/step - loss: 0.0037 - val_loss: 0.0013\n",
            "Epoch 49/50\n",
            "23/23 [==============================] - 8s 335ms/step - loss: 0.0049 - val_loss: 0.0022\n",
            "Epoch 50/50\n",
            "23/23 [==============================] - 8s 334ms/step - loss: 0.0059 - val_loss: 0.0012\n"
          ]
        }
      ]
    },
    {
      "cell_type": "code",
      "source": [
        "train_predict=model.predict(X_train)\n",
        "test_predict=model.predict(X_test)"
      ],
      "metadata": {
        "execution": {
          "iopub.status.busy": "2021-10-24T17:49:32.789907Z",
          "iopub.execute_input": "2021-10-24T17:49:32.790253Z",
          "iopub.status.idle": "2021-10-24T17:49:37.499255Z",
          "shell.execute_reply.started": "2021-10-24T17:49:32.790218Z",
          "shell.execute_reply": "2021-10-24T17:49:37.498312Z"
        },
        "trusted": true,
        "id": "PgLa3Jnuvm8k"
      },
      "execution_count": null,
      "outputs": []
    },
    {
      "cell_type": "code",
      "source": [
        "train_predict=scaler.inverse_transform(train_predict)\n",
        "test_predict=scaler.inverse_transform(test_predict)"
      ],
      "metadata": {
        "execution": {
          "iopub.status.busy": "2021-10-24T17:49:37.501463Z",
          "iopub.execute_input": "2021-10-24T17:49:37.502118Z",
          "iopub.status.idle": "2021-10-24T17:49:37.508106Z",
          "shell.execute_reply.started": "2021-10-24T17:49:37.502068Z",
          "shell.execute_reply": "2021-10-24T17:49:37.507321Z"
        },
        "trusted": true,
        "id": "I6pSUg8Avm8k"
      },
      "execution_count": null,
      "outputs": []
    },
    {
      "cell_type": "code",
      "source": [
        "look_back=100\n",
        "trainPredictPlot = np.empty_like(df_closing)\n",
        "trainPredictPlot[:, :] = np.nan\n",
        "trainPredictPlot[look_back:len(train_predict)+look_back, :] = train_predict\n",
        "\n",
        "# shift test predictions for plotting\n",
        "testPredictPlot = np.empty_like(df_closing)\n",
        "testPredictPlot[:, :] = np.nan\n",
        "testPredictPlot[len(train_predict)+(look_back*2)+1:len(df_closing)-1, :] = test_predict\n",
        "\n",
        "plt.plot(scaler.inverse_transform(df_closing))\n",
        "plt.plot(trainPredictPlot)\n",
        "plt.plot(testPredictPlot)\n",
        "plt.title('Train Vs Test predictions');\n",
        "plt.show()\n"
      ],
      "metadata": {
        "execution": {
          "iopub.status.busy": "2021-10-24T17:49:41.717215Z",
          "iopub.execute_input": "2021-10-24T17:49:41.717967Z",
          "iopub.status.idle": "2021-10-24T17:49:41.898102Z",
          "shell.execute_reply.started": "2021-10-24T17:49:41.717928Z",
          "shell.execute_reply": "2021-10-24T17:49:41.896925Z"
        },
        "trusted": true,
        "colab": {
          "base_uri": "https://localhost:8080/",
          "height": 316
        },
        "id": "2SmpOmRcvm8l",
        "outputId": "2681ab03-502a-40b3-8651-453f969cf19f"
      },
      "execution_count": null,
      "outputs": [
        {
          "output_type": "execute_result",
          "data": {
            "text/plain": [
              "[<matplotlib.lines.Line2D at 0x7f1f69220050>]"
            ]
          },
          "metadata": {},
          "execution_count": 28
        },
        {
          "output_type": "execute_result",
          "data": {
            "text/plain": [
              "[<matplotlib.lines.Line2D at 0x7f1f69220710>]"
            ]
          },
          "metadata": {},
          "execution_count": 28
        },
        {
          "output_type": "execute_result",
          "data": {
            "text/plain": [
              "[<matplotlib.lines.Line2D at 0x7f1f38591ed0>]"
            ]
          },
          "metadata": {},
          "execution_count": 28
        },
        {
          "output_type": "execute_result",
          "data": {
            "text/plain": [
              "Text(0.5, 1.0, 'Train Vs Test predictions')"
            ]
          },
          "metadata": {},
          "execution_count": 28
        },
        {
          "output_type": "display_data",
          "data": {
            "image/png": "[encoded data removed]",
            "text/plain": [
              "<Figure size 432x288 with 1 Axes>"
            ]
          },
          "metadata": {
            "needs_background": "light"
          }
        }
      ]
    },
    {
      "cell_type": "markdown",
      "source": [
        "\n",
        "# <p style=\"background-color:#DC143C;font-family:newtimeroman;color:#000000;font-size:150%;text-align:center;border-radius:40px 40px;\">Predictions For Next 10 Days</p>"
      ],
      "metadata": {
        "id": "WBxuspo9vm8l"
      }
    },
    {
      "cell_type": "code",
      "source": [
        "future_predictions = test_data.copy()\n",
        "for i in range(100):\n",
        "    new_prediction = model.predict(((future_predictions[341+i:])).reshape(1,100,1))\n",
        "    future_predictions = np.append(future_predictions, new_prediction)\n",
        "    \n",
        "plt.plot(scaler.inverse_transform(future_predictions[441:].reshape(-1, 1)));\n",
        "plt.title('Predictions for the next 10 days');\n",
        "plt.xlabel('Days');\n",
        "plt.ylabel('Closing stocks');\n"
      ],
      "metadata": {
        "execution": {
          "iopub.status.busy": "2021-10-24T17:49:50.728590Z",
          "iopub.execute_input": "2021-10-24T17:49:50.729388Z",
          "iopub.status.idle": "2021-10-24T17:50:00.066464Z",
          "shell.execute_reply.started": "2021-10-24T17:49:50.729333Z",
          "shell.execute_reply": "2021-10-24T17:50:00.065558Z"
        },
        "trusted": true,
        "colab": {
          "base_uri": "https://localhost:8080/",
          "height": 295
        },
        "id": "vc-pkcFKvm8l",
        "outputId": "a2af53bb-65d2-4e9c-be36-43c3b6991ee0"
      },
      "execution_count": null,
      "outputs": [
        {
          "output_type": "display_data",
          "data": {
            "image/png": "[encoded data removed]",
            "text/plain": [
              "<Figure size 432x288 with 1 Axes>"
            ]
          },
          "metadata": {
            "needs_background": "light"
          }
        }
      ]
    },
    {
      "cell_type": "markdown",
      "source": [
        "<a id=\"5\"></a>\n",
        "\n",
        "# <p style=\"background-color:#DC143C;font-family:newtimeroman;color:#000000;font-size:150%;text-align:center;border-radius:40px 40px;\">Results And Conclusion</p>"
      ],
      "metadata": {
        "id": "d_4wgnIPvm8m"
      }
    },
    {
      "cell_type": "code",
      "source": [
        "print(\"Train RMSE: \", math.sqrt(mean_squared_error(y_train,train_predict)))\n",
        "print(\"Test RMSE: \", math.sqrt(mean_squared_error(ytest,test_predict)))\n"
      ],
      "metadata": {
        "execution": {
          "iopub.status.busy": "2021-10-24T17:50:05.897641Z",
          "iopub.execute_input": "2021-10-24T17:50:05.897968Z",
          "iopub.status.idle": "2021-10-24T17:50:05.906308Z",
          "shell.execute_reply.started": "2021-10-24T17:50:05.897931Z",
          "shell.execute_reply": "2021-10-24T17:50:05.904971Z"
        },
        "trusted": true,
        "colab": {
          "base_uri": "https://localhost:8080/"
        },
        "id": "S8SGd0O6vm8m",
        "outputId": "2cdff2ab-8e01-4386-fb6d-ed62fbf0ad1a"
      },
      "execution_count": null,
      "outputs": [
        {
          "output_type": "stream",
          "name": "stdout",
          "text": [
            "Train RMSE:  745.9544153825539\n",
            "Test RMSE:  729.0477361069453\n"
          ]
        }
      ]
    },
    {
      "cell_type": "markdown",
      "source": [
        "# The model is performing pretty well, train and test MSE are close."
      ],
      "metadata": {
        "id": "FCRjmmNHvm8n"
      }
    }
  ]
}